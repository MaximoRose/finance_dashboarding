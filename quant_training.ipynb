{
 "cells": [
  {
   "cell_type": "code",
   "execution_count": 2,
   "metadata": {
    "collapsed": true,
    "ExecuteTime": {
     "end_time": "2024-06-07T19:13:40.653485713Z",
     "start_time": "2024-06-07T19:13:40.024630668Z"
    }
   },
   "outputs": [],
   "source": [
    "import yfinance as yf\n",
    "import pandas as pd\n",
    "from pandas_datareader import data as pdr\n",
    "import datetime as dt\n",
    "import numpy as np"
   ]
  },
  {
   "cell_type": "markdown",
   "source": [
    "# Set up date range for stock return"
   ],
   "metadata": {
    "collapsed": false
   }
  },
  {
   "cell_type": "code",
   "execution_count": 4,
   "outputs": [
    {
     "data": {
      "text/plain": "(datetime.datetime(2024, 6, 7, 21, 15, 57, 694933),\n datetime.datetime(2019, 6, 9, 21, 15, 57, 694933))"
     },
     "execution_count": 4,
     "metadata": {},
     "output_type": "execute_result"
    }
   ],
   "source": [
    "endDate = dt.datetime.now()\n",
    "startDate = endDate - dt.timedelta(days=365*5)\n",
    "endDate, startDate"
   ],
   "metadata": {
    "collapsed": false,
    "ExecuteTime": {
     "end_time": "2024-06-07T19:15:57.749989341Z",
     "start_time": "2024-06-07T19:15:57.699950305Z"
    }
   }
  },
  {
   "cell_type": "markdown",
   "source": [
    "# Create a list of Stocks"
   ],
   "metadata": {
    "collapsed": false
   }
  },
  {
   "cell_type": "code",
   "execution_count": 5,
   "outputs": [],
   "source": [
    "stocks = ['MSFT', 'SPY', 'QQQ']"
   ],
   "metadata": {
    "collapsed": false,
    "ExecuteTime": {
     "end_time": "2024-06-07T19:17:11.495147251Z",
     "start_time": "2024-06-07T19:17:11.454962301Z"
    }
   }
  },
  {
   "cell_type": "markdown",
   "source": [
    "# Download stock data"
   ],
   "metadata": {
    "collapsed": false
   }
  },
  {
   "cell_type": "code",
   "execution_count": 8,
   "outputs": [
    {
     "name": "stderr",
     "output_type": "stream",
     "text": [
      "[*********************100%%**********************]  3 of 3 completed\n"
     ]
    }
   ],
   "source": [
    "df = yf.download(stocks, start=startDate, end=endDate)"
   ],
   "metadata": {
    "collapsed": false,
    "ExecuteTime": {
     "end_time": "2024-06-07T19:20:34.497317239Z",
     "start_time": "2024-06-07T19:20:34.273023250Z"
    }
   }
  },
  {
   "cell_type": "code",
   "execution_count": 9,
   "outputs": [
    {
     "data": {
      "text/plain": "Price        Adj Close                               Close              \\\nTicker            MSFT         QQQ         SPY        MSFT         QQQ   \nDate                                                                     \n2019-06-10  126.460022  177.307220  266.649567  132.600006  183.149994   \n2019-06-11  125.983192  177.549225  266.584869  132.100006  183.399994   \n\nPrice                         High                                 Low  \\\nTicker             SPY        MSFT         QQQ         SPY        MSFT   \nDate                                                                     \n2019-06-10  288.970001  134.080002  184.850006  290.820007  132.000000   \n2019-06-11  288.899994  134.240005  185.399994  291.399994  131.279999   \n\nPrice                                     Open                          \\\nTicker             QQQ         SPY        MSFT         QQQ         SPY   \nDate                                                                     \n2019-06-10  182.210007  288.869995  132.399994  182.250000  289.369995   \n2019-06-11  182.779999  288.179993  133.880005  185.059998  290.989990   \n\nPrice         Volume                      \nTicker          MSFT       QQQ       SPY  \nDate                                      \n2019-06-10  26477100  41385300  60799100  \n2019-06-11  23913700  41260300  58641300  ",
      "text/html": "<div>\n<style scoped>\n    .dataframe tbody tr th:only-of-type {\n        vertical-align: middle;\n    }\n\n    .dataframe tbody tr th {\n        vertical-align: top;\n    }\n\n    .dataframe thead tr th {\n        text-align: left;\n    }\n\n    .dataframe thead tr:last-of-type th {\n        text-align: right;\n    }\n</style>\n<table border=\"1\" class=\"dataframe\">\n  <thead>\n    <tr>\n      <th>Price</th>\n      <th colspan=\"3\" halign=\"left\">Adj Close</th>\n      <th colspan=\"3\" halign=\"left\">Close</th>\n      <th colspan=\"3\" halign=\"left\">High</th>\n      <th colspan=\"3\" halign=\"left\">Low</th>\n      <th colspan=\"3\" halign=\"left\">Open</th>\n      <th colspan=\"3\" halign=\"left\">Volume</th>\n    </tr>\n    <tr>\n      <th>Ticker</th>\n      <th>MSFT</th>\n      <th>QQQ</th>\n      <th>SPY</th>\n      <th>MSFT</th>\n      <th>QQQ</th>\n      <th>SPY</th>\n      <th>MSFT</th>\n      <th>QQQ</th>\n      <th>SPY</th>\n      <th>MSFT</th>\n      <th>QQQ</th>\n      <th>SPY</th>\n      <th>MSFT</th>\n      <th>QQQ</th>\n      <th>SPY</th>\n      <th>MSFT</th>\n      <th>QQQ</th>\n      <th>SPY</th>\n    </tr>\n    <tr>\n      <th>Date</th>\n      <th></th>\n      <th></th>\n      <th></th>\n      <th></th>\n      <th></th>\n      <th></th>\n      <th></th>\n      <th></th>\n      <th></th>\n      <th></th>\n      <th></th>\n      <th></th>\n      <th></th>\n      <th></th>\n      <th></th>\n      <th></th>\n      <th></th>\n      <th></th>\n    </tr>\n  </thead>\n  <tbody>\n    <tr>\n      <th>2019-06-10</th>\n      <td>126.460022</td>\n      <td>177.307220</td>\n      <td>266.649567</td>\n      <td>132.600006</td>\n      <td>183.149994</td>\n      <td>288.970001</td>\n      <td>134.080002</td>\n      <td>184.850006</td>\n      <td>290.820007</td>\n      <td>132.000000</td>\n      <td>182.210007</td>\n      <td>288.869995</td>\n      <td>132.399994</td>\n      <td>182.250000</td>\n      <td>289.369995</td>\n      <td>26477100</td>\n      <td>41385300</td>\n      <td>60799100</td>\n    </tr>\n    <tr>\n      <th>2019-06-11</th>\n      <td>125.983192</td>\n      <td>177.549225</td>\n      <td>266.584869</td>\n      <td>132.100006</td>\n      <td>183.399994</td>\n      <td>288.899994</td>\n      <td>134.240005</td>\n      <td>185.399994</td>\n      <td>291.399994</td>\n      <td>131.279999</td>\n      <td>182.779999</td>\n      <td>288.179993</td>\n      <td>133.880005</td>\n      <td>185.059998</td>\n      <td>290.989990</td>\n      <td>23913700</td>\n      <td>41260300</td>\n      <td>58641300</td>\n    </tr>\n  </tbody>\n</table>\n</div>"
     },
     "execution_count": 9,
     "metadata": {},
     "output_type": "execute_result"
    }
   ],
   "source": [
    "df.head(2)"
   ],
   "metadata": {
    "collapsed": false,
    "ExecuteTime": {
     "end_time": "2024-06-07T19:21:50.145982597Z",
     "start_time": "2024-06-07T19:21:50.097746812Z"
    }
   }
  },
  {
   "cell_type": "markdown",
   "source": [
    "# Filter on indicator\n",
    "- __Adjusted close Vs. Close stock price :__ While the closing price simply refers to the cost of shares at the end of the day, the adjusted closing price takes dividends, stock splits, and new stock offerings into account."
   ],
   "metadata": {
    "collapsed": false
   }
  },
  {
   "cell_type": "code",
   "execution_count": 10,
   "outputs": [],
   "source": [
    "adjusted_close_prices = df['Adj Close']"
   ],
   "metadata": {
    "collapsed": false,
    "ExecuteTime": {
     "end_time": "2024-06-07T19:22:33.553935449Z",
     "start_time": "2024-06-07T19:22:33.510415911Z"
    }
   }
  },
  {
   "cell_type": "code",
   "execution_count": 12,
   "outputs": [
    {
     "data": {
      "text/plain": "Ticker            MSFT         QQQ         SPY\nDate                                          \n2019-06-10  126.460022  177.307220  266.649567\n2019-06-11  125.983192  177.549225  266.584869",
      "text/html": "<div>\n<style scoped>\n    .dataframe tbody tr th:only-of-type {\n        vertical-align: middle;\n    }\n\n    .dataframe tbody tr th {\n        vertical-align: top;\n    }\n\n    .dataframe thead th {\n        text-align: right;\n    }\n</style>\n<table border=\"1\" class=\"dataframe\">\n  <thead>\n    <tr style=\"text-align: right;\">\n      <th>Ticker</th>\n      <th>MSFT</th>\n      <th>QQQ</th>\n      <th>SPY</th>\n    </tr>\n    <tr>\n      <th>Date</th>\n      <th></th>\n      <th></th>\n      <th></th>\n    </tr>\n  </thead>\n  <tbody>\n    <tr>\n      <th>2019-06-10</th>\n      <td>126.460022</td>\n      <td>177.307220</td>\n      <td>266.649567</td>\n    </tr>\n    <tr>\n      <th>2019-06-11</th>\n      <td>125.983192</td>\n      <td>177.549225</td>\n      <td>266.584869</td>\n    </tr>\n  </tbody>\n</table>\n</div>"
     },
     "execution_count": 12,
     "metadata": {},
     "output_type": "execute_result"
    }
   ],
   "source": [
    "adjusted_close_prices.head(2)"
   ],
   "metadata": {
    "collapsed": false,
    "ExecuteTime": {
     "end_time": "2024-06-07T19:23:33.586174919Z",
     "start_time": "2024-06-07T19:23:33.542482010Z"
    }
   }
  },
  {
   "cell_type": "markdown",
   "source": [
    "# Caculate daily returns\n",
    "Daily returns : calculating ln of the daily returns because additive law\n",
    "\n",
    "On prend le logarithme du ratio entre la valeur n et la valeur (n-1)."
   ],
   "metadata": {
    "collapsed": false
   }
  },
  {
   "cell_type": "code",
   "execution_count": 13,
   "outputs": [
    {
     "data": {
      "text/plain": "Ticker          MSFT       QQQ       SPY\nDate                                    \n2019-06-10       NaN       NaN       NaN\n2019-06-11 -0.003778  0.001364 -0.000243",
      "text/html": "<div>\n<style scoped>\n    .dataframe tbody tr th:only-of-type {\n        vertical-align: middle;\n    }\n\n    .dataframe tbody tr th {\n        vertical-align: top;\n    }\n\n    .dataframe thead th {\n        text-align: right;\n    }\n</style>\n<table border=\"1\" class=\"dataframe\">\n  <thead>\n    <tr style=\"text-align: right;\">\n      <th>Ticker</th>\n      <th>MSFT</th>\n      <th>QQQ</th>\n      <th>SPY</th>\n    </tr>\n    <tr>\n      <th>Date</th>\n      <th></th>\n      <th></th>\n      <th></th>\n    </tr>\n  </thead>\n  <tbody>\n    <tr>\n      <th>2019-06-10</th>\n      <td>NaN</td>\n      <td>NaN</td>\n      <td>NaN</td>\n    </tr>\n    <tr>\n      <th>2019-06-11</th>\n      <td>-0.003778</td>\n      <td>0.001364</td>\n      <td>-0.000243</td>\n    </tr>\n  </tbody>\n</table>\n</div>"
     },
     "execution_count": 13,
     "metadata": {},
     "output_type": "execute_result"
    }
   ],
   "source": [
    "log_returns = np.log(adjusted_close_prices/adjusted_close_prices.shift(1))\n",
    "log_returns.head(2)"
   ],
   "metadata": {
    "collapsed": false,
    "ExecuteTime": {
     "end_time": "2024-06-07T19:29:49.748744334Z",
     "start_time": "2024-06-07T19:29:49.699211864Z"
    }
   }
  },
  {
   "cell_type": "markdown",
   "source": [
    "# Calculate cumulative returns"
   ],
   "metadata": {
    "collapsed": false
   }
  },
  {
   "cell_type": "code",
   "execution_count": 14,
   "outputs": [],
   "source": [
    "cumulative_log_returns = log_returns.cumsum()"
   ],
   "metadata": {
    "collapsed": false,
    "ExecuteTime": {
     "end_time": "2024-06-07T19:31:45.039956258Z",
     "start_time": "2024-06-07T19:31:45.033850435Z"
    }
   }
  },
  {
   "cell_type": "markdown",
   "source": [
    "# Plot cumulative returns\n",
    "\n",
    "The return we would have had, if we had invested five years ago."
   ],
   "metadata": {
    "collapsed": false
   }
  },
  {
   "cell_type": "code",
   "execution_count": 15,
   "outputs": [
    {
     "data": {
      "text/plain": "<Axes: title={'center': 'Cumulative returns'}, xlabel='Date'>"
     },
     "execution_count": 15,
     "metadata": {},
     "output_type": "execute_result"
    },
    {
     "data": {
      "text/plain": "<Figure size 1000x600 with 1 Axes>",
      "image/png": "[encoded data removed]"
     },
     "metadata": {},
     "output_type": "display_data"
    }
   ],
   "source": [
    "cumulative_log_returns.plot(title=\"Cumulative returns\", figsize=(10,6))"
   ],
   "metadata": {
    "collapsed": false,
    "ExecuteTime": {
     "end_time": "2024-06-07T19:33:46.647147232Z",
     "start_time": "2024-06-07T19:33:46.101616029Z"
    }
   }
  },
  {
   "cell_type": "markdown",
   "source": [
    "Ce graphique permet de visualiser le gain relatif realise par une action depuis 5 ans.\n",
    "\n",
    "Notez le creux apres 2020 : La COVID !"
   ],
   "metadata": {
    "collapsed": false
   }
  },
  {
   "cell_type": "markdown",
   "source": [
    "# Calculate stock beta\n",
    "\n",
    "Le Bêta est un outil de mesure du risque d'un actif notamment utilisé dans le modèle d'évaluation du CAPM. On l'utilisera entre autres pour mettre en place des stratégies de limitation des risques.\n",
    "\n",
    "Le principe de cet outil est de comparer les mouvements effectués par un actif par rapport à son marché de référence, ce qui permet de déterminer son niveau de risque par rapport aux autres actifs de référence. La mesure est effectuée en comparant la rentabilité de l'actif à celle du marché. On peut aussi réduire le marché à un indice boursier (CAC 40, Dow Jones, etc.)\n",
    "\n",
    "Mathématiquement, le Bêta de l'actif financier se définit comme le rapport de la covariance de la rentabilité de l'actif avec celle du marché à la variance de la rentabilité du marché.\n",
    "\n",
    "[source](https://www.abcbourse.com/apprendre/19_beta.html)\n",
    "\n",
    "- CAC40 : Indice boursier France\n",
    "- SBF 120 : CAC40 etendu\n",
    "- SPY : Indice boursier USA\n",
    "- AEX : Indice boursier europeen (Amsterdam)\n",
    "- Bel 20 : Indice boursier europee (Brussels)"
   ],
   "metadata": {
    "collapsed": false
   }
  },
  {
   "cell_type": "code",
   "execution_count": 99,
   "outputs": [],
   "source": [
    "def calculate_beta(stock_index_return, stock_return) :\n",
    "    covariance = np.cov(stock_return, stock_index_return)\n",
    "    variance = np.var(stock_index_return)\n",
    "    return covariance[0,1] / variance"
   ],
   "metadata": {
    "collapsed": false,
    "ExecuteTime": {
     "end_time": "2024-06-07T20:45:59.042061786Z",
     "start_time": "2024-06-07T20:45:59.001235729Z"
    }
   }
  },
  {
   "cell_type": "markdown",
   "source": [
    "[ref.](https://github.com/sammuharem/beta-calculator/blob/main/Stock%20Beta%20Calculator.py)"
   ],
   "metadata": {
    "collapsed": false
   }
  },
  {
   "cell_type": "code",
   "execution_count": 100,
   "outputs": [],
   "source": [
    "index_CAC40 = ['^FCHI'] # CAC40, SBF 120('^SBF120' introuvable sur yfinance)\n",
    "index_SBF120 = ['^SBF120']\n",
    "index_AEX = ['AEX']\n",
    "index_BEL20 = ['^BFX']\n",
    "index_US = ['SPY']"
   ],
   "metadata": {
    "collapsed": false,
    "ExecuteTime": {
     "end_time": "2024-06-07T20:46:00.664514342Z",
     "start_time": "2024-06-07T20:46:00.661365089Z"
    }
   }
  },
  {
   "cell_type": "code",
   "execution_count": 101,
   "outputs": [],
   "source": [
    "index = index_US"
   ],
   "metadata": {
    "collapsed": false,
    "ExecuteTime": {
     "end_time": "2024-06-07T20:46:00.900777180Z",
     "start_time": "2024-06-07T20:46:00.887669729Z"
    }
   }
  },
  {
   "cell_type": "code",
   "execution_count": 102,
   "outputs": [],
   "source": [
    "tick_stocks = ['MSFT']"
   ],
   "metadata": {
    "collapsed": false,
    "ExecuteTime": {
     "end_time": "2024-06-07T20:46:01.099929445Z",
     "start_time": "2024-06-07T20:46:01.093279313Z"
    }
   }
  },
  {
   "cell_type": "code",
   "execution_count": 103,
   "outputs": [],
   "source": [
    "stocks_beta = index+tick_stocks"
   ],
   "metadata": {
    "collapsed": false,
    "ExecuteTime": {
     "end_time": "2024-06-07T20:46:01.776406456Z",
     "start_time": "2024-06-07T20:46:01.773640361Z"
    }
   }
  },
  {
   "cell_type": "code",
   "execution_count": 104,
   "outputs": [
    {
     "data": {
      "text/plain": "['SPY', 'MSFT']"
     },
     "execution_count": 104,
     "metadata": {},
     "output_type": "execute_result"
    }
   ],
   "source": [
    "stocks_beta"
   ],
   "metadata": {
    "collapsed": false,
    "ExecuteTime": {
     "end_time": "2024-06-07T20:46:02.146829516Z",
     "start_time": "2024-06-07T20:46:02.142231200Z"
    }
   }
  },
  {
   "cell_type": "code",
   "execution_count": 105,
   "outputs": [
    {
     "name": "stderr",
     "output_type": "stream",
     "text": [
      "[*********************100%%**********************]  2 of 2 completed\n"
     ]
    }
   ],
   "source": [
    "df = yf.download(stocks_beta, start=startDate, end=endDate)"
   ],
   "metadata": {
    "collapsed": false,
    "ExecuteTime": {
     "end_time": "2024-06-07T20:46:02.760604030Z",
     "start_time": "2024-06-07T20:46:02.558480802Z"
    }
   }
  },
  {
   "cell_type": "code",
   "execution_count": 106,
   "outputs": [],
   "source": [
    "beta_adjusted_close_prices = df['Adj Close']"
   ],
   "metadata": {
    "collapsed": false,
    "ExecuteTime": {
     "end_time": "2024-06-07T20:46:03.907875604Z",
     "start_time": "2024-06-07T20:46:03.893404710Z"
    }
   }
  },
  {
   "cell_type": "code",
   "execution_count": 107,
   "outputs": [
    {
     "data": {
      "text/plain": "Ticker            MSFT         SPY\nDate                              \n2019-06-10  126.460045  266.649567\n2019-06-11  125.983192  266.584930",
      "text/html": "<div>\n<style scoped>\n    .dataframe tbody tr th:only-of-type {\n        vertical-align: middle;\n    }\n\n    .dataframe tbody tr th {\n        vertical-align: top;\n    }\n\n    .dataframe thead th {\n        text-align: right;\n    }\n</style>\n<table border=\"1\" class=\"dataframe\">\n  <thead>\n    <tr style=\"text-align: right;\">\n      <th>Ticker</th>\n      <th>MSFT</th>\n      <th>SPY</th>\n    </tr>\n    <tr>\n      <th>Date</th>\n      <th></th>\n      <th></th>\n    </tr>\n  </thead>\n  <tbody>\n    <tr>\n      <th>2019-06-10</th>\n      <td>126.460045</td>\n      <td>266.649567</td>\n    </tr>\n    <tr>\n      <th>2019-06-11</th>\n      <td>125.983192</td>\n      <td>266.584930</td>\n    </tr>\n  </tbody>\n</table>\n</div>"
     },
     "execution_count": 107,
     "metadata": {},
     "output_type": "execute_result"
    }
   ],
   "source": [
    "beta_adjusted_close_prices.head(2)"
   ],
   "metadata": {
    "collapsed": false,
    "ExecuteTime": {
     "end_time": "2024-06-07T20:46:04.299544134Z",
     "start_time": "2024-06-07T20:46:04.288796181Z"
    }
   }
  },
  {
   "cell_type": "code",
   "execution_count": 108,
   "outputs": [
    {
     "data": {
      "text/plain": "Ticker          MSFT       SPY\nDate                          \n2019-06-10       NaN       NaN\n2019-06-11 -0.003771 -0.000242",
      "text/html": "<div>\n<style scoped>\n    .dataframe tbody tr th:only-of-type {\n        vertical-align: middle;\n    }\n\n    .dataframe tbody tr th {\n        vertical-align: top;\n    }\n\n    .dataframe thead th {\n        text-align: right;\n    }\n</style>\n<table border=\"1\" class=\"dataframe\">\n  <thead>\n    <tr style=\"text-align: right;\">\n      <th>Ticker</th>\n      <th>MSFT</th>\n      <th>SPY</th>\n    </tr>\n    <tr>\n      <th>Date</th>\n      <th></th>\n      <th></th>\n    </tr>\n  </thead>\n  <tbody>\n    <tr>\n      <th>2019-06-10</th>\n      <td>NaN</td>\n      <td>NaN</td>\n    </tr>\n    <tr>\n      <th>2019-06-11</th>\n      <td>-0.003771</td>\n      <td>-0.000242</td>\n    </tr>\n  </tbody>\n</table>\n</div>"
     },
     "execution_count": 108,
     "metadata": {},
     "output_type": "execute_result"
    }
   ],
   "source": [
    "# Standard daily return\n",
    "beta_daily_returns = (beta_adjusted_close_prices - beta_adjusted_close_prices.shift(1))/beta_adjusted_close_prices.shift(1)\n",
    "beta_daily_returns.head(2)"
   ],
   "metadata": {
    "collapsed": false,
    "ExecuteTime": {
     "end_time": "2024-06-07T20:46:05.165805523Z",
     "start_time": "2024-06-07T20:46:05.160133368Z"
    }
   }
  },
  {
   "cell_type": "markdown",
   "source": [
    "Concrètement, prenons l'exemple d'une action du CAC 40 qui possède un Bêta de 1,8. Cela signifie que si l'indice CAC 40 varie de 10%, l'action devrait théoriquement varier de 18%, elle amplifiera donc les mouvements du marché puisque son Bêta est supérieur à 1.\n",
    "\n",
    "A l'inverse, si une action a un Bêta de 0,7, elle variera moins violemment que son marché de référence : si le CAC 40 varie de 10%, elle devrait effectuer un mouvement de 7% seulement.\n",
    "\n",
    "On peut aussi rencontrer d'autres situations. Par exemple un coefficient Bêta négatif signifiera que l'action évolue en sens inverse de son marché. Si le Bêta est égal à 0, cela indique que l'actif et son marché ne sont pas du tout corrélés, leurs variations sont totalement indépendantes."
   ],
   "metadata": {
    "collapsed": false
   }
  },
  {
   "cell_type": "code",
   "execution_count": 110,
   "outputs": [
    {
     "data": {
      "text/plain": "1.1968226064511407"
     },
     "execution_count": 110,
     "metadata": {},
     "output_type": "execute_result"
    }
   ],
   "source": [
    "# Remove empty cells\n",
    "beta_daily_returns = beta_daily_returns.dropna()\n",
    "beta = calculate_beta(beta_daily_returns[index[0]], beta_daily_returns[tick_stocks[0]])\n",
    "beta"
   ],
   "metadata": {
    "collapsed": false,
    "ExecuteTime": {
     "end_time": "2024-06-07T20:46:13.289140918Z",
     "start_time": "2024-06-07T20:46:13.282203499Z"
    }
   }
  },
  {
   "cell_type": "markdown",
   "source": [
    "__N.B :__ La valeur du Beta est elle aussi temporelle. Elle peut influencer l'achat. Mais ses fluctuations au sein du portefeuille doivent etre etudiees."
   ],
   "metadata": {
    "collapsed": false
   }
  },
  {
   "cell_type": "markdown",
   "source": [
    "# Calculate Sharpe Ratio\n",
    "\n",
    "Risk free rate will have a fixed value.\n",
    "\n",
    "TODO"
   ],
   "metadata": {
    "collapsed": false
   }
  },
  {
   "cell_type": "code",
   "execution_count": null,
   "outputs": [],
   "source": [],
   "metadata": {
    "collapsed": false
   }
  }
 ],
 "metadata": {
  "kernelspec": {
   "display_name": "Python 3",
   "language": "python",
   "name": "python3"
  },
  "language_info": {
   "codemirror_mode": {
    "name": "ipython",
    "version": 2
   },
   "file_extension": ".py",
   "mimetype": "text/x-python",
   "name": "python",
   "nbconvert_exporter": "python",
   "pygments_lexer": "ipython2",
   "version": "2.7.6"
  }
 },
 "nbformat": 4,
 "nbformat_minor": 0
}
