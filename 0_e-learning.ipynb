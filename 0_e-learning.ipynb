{
 "cells": [
  {
   "cell_type": "markdown",
   "source": [
    "# [DOC.](https://pypi.org/project/yfinance/)"
   ],
   "metadata": {
    "collapsed": false
   }
  },
  {
   "cell_type": "code",
   "execution_count": 1,
   "metadata": {
    "collapsed": true,
    "ExecuteTime": {
     "end_time": "2024-06-05T19:07:38.720420229Z",
     "start_time": "2024-06-05T19:07:38.425343772Z"
    }
   },
   "outputs": [],
   "source": [
    "import pandas as pd\n",
    "import yfinance as yf"
   ]
  },
  {
   "cell_type": "code",
   "execution_count": 2,
   "outputs": [],
   "source": [
    "apple = yf.Ticker(\"aapl\")"
   ],
   "metadata": {
    "collapsed": false,
    "ExecuteTime": {
     "end_time": "2024-06-05T19:10:07.410978296Z",
     "start_time": "2024-06-05T19:10:07.385581072Z"
    }
   }
  },
  {
   "cell_type": "code",
   "execution_count": 3,
   "outputs": [
    {
     "data": {
      "text/plain": "                           Dividends  Stock Splits\nDate                                              \n1987-05-11 00:00:00-04:00   0.000536           0.0\n1987-06-16 00:00:00-04:00   0.000000           2.0\n1987-08-10 00:00:00-04:00   0.000536           0.0\n1987-11-17 00:00:00-05:00   0.000714           0.0\n1988-02-12 00:00:00-05:00   0.000714           0.0\n...                              ...           ...\n2023-05-12 00:00:00-04:00   0.240000           0.0\n2023-08-11 00:00:00-04:00   0.240000           0.0\n2023-11-10 00:00:00-05:00   0.240000           0.0\n2024-02-09 00:00:00-05:00   0.240000           0.0\n2024-05-10 00:00:00-04:00   0.250000           0.0\n\n[88 rows x 2 columns]",
      "text/html": "<div>\n<style scoped>\n    .dataframe tbody tr th:only-of-type {\n        vertical-align: middle;\n    }\n\n    .dataframe tbody tr th {\n        vertical-align: top;\n    }\n\n    .dataframe thead th {\n        text-align: right;\n    }\n</style>\n<table border=\"1\" class=\"dataframe\">\n  <thead>\n    <tr style=\"text-align: right;\">\n      <th></th>\n      <th>Dividends</th>\n      <th>Stock Splits</th>\n    </tr>\n    <tr>\n      <th>Date</th>\n      <th></th>\n      <th></th>\n    </tr>\n  </thead>\n  <tbody>\n    <tr>\n      <th>1987-05-11 00:00:00-04:00</th>\n      <td>0.000536</td>\n      <td>0.0</td>\n    </tr>\n    <tr>\n      <th>1987-06-16 00:00:00-04:00</th>\n      <td>0.000000</td>\n      <td>2.0</td>\n    </tr>\n    <tr>\n      <th>1987-08-10 00:00:00-04:00</th>\n      <td>0.000536</td>\n      <td>0.0</td>\n    </tr>\n    <tr>\n      <th>1987-11-17 00:00:00-05:00</th>\n      <td>0.000714</td>\n      <td>0.0</td>\n    </tr>\n    <tr>\n      <th>1988-02-12 00:00:00-05:00</th>\n      <td>0.000714</td>\n      <td>0.0</td>\n    </tr>\n    <tr>\n      <th>...</th>\n      <td>...</td>\n      <td>...</td>\n    </tr>\n    <tr>\n      <th>2023-05-12 00:00:00-04:00</th>\n      <td>0.240000</td>\n      <td>0.0</td>\n    </tr>\n    <tr>\n      <th>2023-08-11 00:00:00-04:00</th>\n      <td>0.240000</td>\n      <td>0.0</td>\n    </tr>\n    <tr>\n      <th>2023-11-10 00:00:00-05:00</th>\n      <td>0.240000</td>\n      <td>0.0</td>\n    </tr>\n    <tr>\n      <th>2024-02-09 00:00:00-05:00</th>\n      <td>0.240000</td>\n      <td>0.0</td>\n    </tr>\n    <tr>\n      <th>2024-05-10 00:00:00-04:00</th>\n      <td>0.250000</td>\n      <td>0.0</td>\n    </tr>\n  </tbody>\n</table>\n<p>88 rows × 2 columns</p>\n</div>"
     },
     "execution_count": 3,
     "metadata": {},
     "output_type": "execute_result"
    }
   ],
   "source": [
    "apple.actions"
   ],
   "metadata": {
    "collapsed": false,
    "ExecuteTime": {
     "end_time": "2024-06-05T19:10:16.398789284Z",
     "start_time": "2024-06-05T19:10:15.728147159Z"
    }
   }
  },
  {
   "cell_type": "code",
   "execution_count": 5,
   "outputs": [
    {
     "data": {
      "text/plain": "Date\n1987-06-16 00:00:00-04:00    2.0\n2000-06-21 00:00:00-04:00    2.0\n2005-02-28 00:00:00-05:00    2.0\n2014-06-09 00:00:00-04:00    7.0\n2020-08-31 00:00:00-04:00    4.0\nName: Stock Splits, dtype: float64"
     },
     "execution_count": 5,
     "metadata": {},
     "output_type": "execute_result"
    }
   ],
   "source": [
    "apple.splits"
   ],
   "metadata": {
    "collapsed": false,
    "ExecuteTime": {
     "end_time": "2024-06-05T19:10:32.683540819Z",
     "start_time": "2024-06-05T19:10:32.668289761Z"
    }
   }
  },
  {
   "cell_type": "code",
   "execution_count": 6,
   "outputs": [],
   "source": [
    "msft = yf.Ticker(\"msft\")"
   ],
   "metadata": {
    "collapsed": false,
    "ExecuteTime": {
     "end_time": "2024-06-05T19:11:21.725258412Z",
     "start_time": "2024-06-05T19:11:21.696619931Z"
    }
   }
  },
  {
   "cell_type": "code",
   "execution_count": 7,
   "outputs": [
    {
     "data": {
      "text/plain": "{'address1': 'One Microsoft Way',\n 'city': 'Redmond',\n 'state': 'WA',\n 'zip': '98052-6399',\n 'country': 'United States',\n 'phone': '425 882 8080',\n 'website': 'https://www.microsoft.com',\n 'industry': 'Software - Infrastructure',\n 'industryKey': 'software-infrastructure',\n 'industryDisp': 'Software - Infrastructure',\n 'sector': 'Technology',\n 'sectorKey': 'technology',\n 'sectorDisp': 'Technology',\n 'longBusinessSummary': 'Microsoft Corporation develops and supports software, services, devices and solutions worldwide. The Productivity and Business Processes segment offers office, exchange, SharePoint, Microsoft Teams, office 365 Security and Compliance, Microsoft viva, and Microsoft 365 copilot; and office consumer services, such as Microsoft 365 consumer subscriptions, Office licensed on-premises, and other office services. This segment also provides LinkedIn; and dynamics business solutions, including Dynamics 365, a set of intelligent, cloud-based applications across ERP, CRM, power apps, and power automate; and on-premises ERP and CRM applications. The Intelligent Cloud segment offers server products and cloud services, such as azure and other cloud services; SQL and windows server, visual studio, system center, and related client access licenses, as well as nuance and GitHub; and enterprise services including enterprise support services, industry solutions, and nuance professional services. The More Personal Computing segment offers Windows, including windows OEM licensing and other non-volume licensing of the Windows operating system; Windows commercial comprising volume licensing of the Windows operating system, windows cloud services, and other Windows commercial offerings; patent licensing; and windows Internet of Things; and devices, such as surface, HoloLens, and PC accessories. Additionally, this segment provides gaming, which includes Xbox hardware and content, and first- and third-party content; Xbox game pass and other subscriptions, cloud gaming, advertising, third-party disc royalties, and other cloud services; and search and news advertising, which includes Bing, Microsoft News and Edge, and third-party affiliates. The company sells its products through OEMs, distributors, and resellers; and directly through digital marketplaces, online, and retail stores. The company was founded in 1975 and is headquartered in Redmond, Washington.',\n 'fullTimeEmployees': 221000,\n 'companyOfficers': [{'maxAge': 1,\n   'name': 'Mr. Satya  Nadella',\n   'age': 56,\n   'title': 'Chairman & CEO',\n   'yearBorn': 1967,\n   'fiscalYear': 2023,\n   'totalPay': 9276400,\n   'exercisedValue': 0,\n   'unexercisedValue': 0},\n  {'maxAge': 1,\n   'name': 'Mr. Bradford L. Smith LCA',\n   'age': 64,\n   'title': 'President & Vice Chairman',\n   'yearBorn': 1959,\n   'fiscalYear': 2023,\n   'totalPay': 3591277,\n   'exercisedValue': 0,\n   'unexercisedValue': 0},\n  {'maxAge': 1,\n   'name': 'Ms. Amy E. Hood',\n   'age': 51,\n   'title': 'Executive VP & CFO',\n   'yearBorn': 1972,\n   'fiscalYear': 2023,\n   'totalPay': 3452196,\n   'exercisedValue': 0,\n   'unexercisedValue': 0},\n  {'maxAge': 1,\n   'name': 'Mr. Judson B. Althoff',\n   'age': 49,\n   'title': 'Executive VP & Chief Commercial Officer',\n   'yearBorn': 1974,\n   'fiscalYear': 2023,\n   'totalPay': 3355797,\n   'exercisedValue': 0,\n   'unexercisedValue': 0},\n  {'maxAge': 1,\n   'name': 'Mr. Christopher David Young',\n   'age': 51,\n   'title': 'Executive Vice President of Business Development, Strategy & Ventures',\n   'yearBorn': 1972,\n   'fiscalYear': 2023,\n   'totalPay': 2460507,\n   'exercisedValue': 0,\n   'unexercisedValue': 0},\n  {'maxAge': 1,\n   'name': 'Ms. Alice L. Jolla',\n   'age': 56,\n   'title': 'Corporate VP & Chief Accounting Officer',\n   'yearBorn': 1967,\n   'fiscalYear': 2023,\n   'exercisedValue': 0,\n   'unexercisedValue': 0},\n  {'maxAge': 1,\n   'name': 'Mr. James Kevin Scott',\n   'age': 51,\n   'title': 'Executive VP of AI & CTO',\n   'yearBorn': 1972,\n   'fiscalYear': 2023,\n   'exercisedValue': 0,\n   'unexercisedValue': 0},\n  {'maxAge': 1,\n   'name': 'Brett  Iversen',\n   'title': 'Vice President of Investor Relations',\n   'fiscalYear': 2023,\n   'exercisedValue': 0,\n   'unexercisedValue': 0},\n  {'maxAge': 1,\n   'name': 'Mr. Hossein  Nowbar',\n   'title': 'Chief Legal Officer',\n   'fiscalYear': 2023,\n   'exercisedValue': 0,\n   'unexercisedValue': 0},\n  {'maxAge': 1,\n   'name': 'Mr. Frank X. Shaw',\n   'title': 'Chief Communications Officer',\n   'fiscalYear': 2023,\n   'exercisedValue': 0,\n   'unexercisedValue': 0}],\n 'auditRisk': 3,\n 'boardRisk': 4,\n 'compensationRisk': 2,\n 'shareHolderRightsRisk': 2,\n 'overallRisk': 1,\n 'governanceEpochDate': 1717200000,\n 'compensationAsOfEpochDate': 1703980800,\n 'irWebsite': 'http://www.microsoft.com/investor/default.aspx',\n 'maxAge': 86400,\n 'priceHint': 2,\n 'previousClose': 416.07,\n 'open': 417.81,\n 'dayLow': 416.3,\n 'dayHigh': 423.62,\n 'regularMarketPreviousClose': 416.07,\n 'regularMarketOpen': 417.81,\n 'regularMarketDayLow': 416.3,\n 'regularMarketDayHigh': 423.62,\n 'dividendRate': 3.0,\n 'dividendYield': 0.0072000003,\n 'exDividendDate': 1715731200,\n 'payoutRatio': 0.24780001,\n 'fiveYearAvgDividendYield': 0.93,\n 'beta': 0.893,\n 'trailingPE': 36.716393,\n 'forwardPE': 31.926092,\n 'volume': 9480674,\n 'regularMarketVolume': 9480674,\n 'averageVolume': 19836049,\n 'averageVolume10days': 20729820,\n 'averageDailyVolume10Day': 20729820,\n 'bid': 422.95,\n 'ask': 423.56,\n 'bidSize': 100,\n 'askSize': 100,\n 'marketCap': 3146394107904,\n 'fiftyTwoWeekLow': 309.45,\n 'fiftyTwoWeekHigh': 433.6,\n 'priceToSalesTrailing12Months': 13.299269,\n 'fiftyDayAverage': 415.8776,\n 'twoHundredDayAverage': 379.92606,\n 'trailingAnnualDividendRate': 2.93,\n 'trailingAnnualDividendYield': 0.0070420844,\n 'currency': 'USD',\n 'enterpriseValue': 3118575386624,\n 'profitMargins': 0.36426997,\n 'floatShares': 7421528951,\n 'sharesOutstanding': 7432309760,\n 'sharesShort': 43764126,\n 'sharesShortPriorMonth': 56321541,\n 'sharesShortPreviousMonthDate': 1713139200,\n 'dateShortInterest': 1715731200,\n 'sharesPercentSharesOut': 0.0058999998,\n 'heldPercentInsiders': 0.00054000004,\n 'heldPercentInstitutions': 0.7374,\n 'shortRatio': 2.18,\n 'shortPercentOfFloat': 0.0058999998,\n 'impliedSharesOutstanding': 7432309760,\n 'bookValue': 34.058,\n 'priceToBook': 12.429973,\n 'lastFiscalYearEnd': 1688083200,\n 'nextFiscalYearEnd': 1719705600,\n 'mostRecentQuarter': 1711843200,\n 'earningsQuarterlyGrowth': 0.199,\n 'netIncomeToCommon': 86181003264,\n 'trailingEps': 11.53,\n 'forwardEps': 13.26,\n 'pegRatio': 2.17,\n 'lastSplitFactor': '2:1',\n 'lastSplitDate': 1045526400,\n 'enterpriseToRevenue': 13.182,\n 'enterpriseToEbitda': 24.912,\n '52WeekChange': 0.28662872,\n 'SandP52WeekChange': 0.23990989,\n 'lastDividendValue': 0.75,\n 'lastDividendDate': 1715731200,\n 'exchange': 'NMS',\n 'quoteType': 'EQUITY',\n 'symbol': 'MSFT',\n 'underlyingSymbol': 'MSFT',\n 'shortName': 'Microsoft Corporation',\n 'longName': 'Microsoft Corporation',\n 'firstTradeDateEpochUtc': 511108200,\n 'timeZoneFullName': 'America/New_York',\n 'timeZoneShortName': 'EDT',\n 'uuid': 'b004b3ec-de24-385e-b2c1-923f10d3fb62',\n 'messageBoardId': 'finmb_21835',\n 'gmtOffSetMilliseconds': -14400000,\n 'currentPrice': 423.34,\n 'targetHighPrice': 600.0,\n 'targetLowPrice': 436.0,\n 'targetMeanPrice': 483.33,\n 'targetMedianPrice': 477.33,\n 'recommendationMean': 1.7,\n 'recommendationKey': 'buy',\n 'numberOfAnalystOpinions': 47,\n 'totalCash': 80013000704,\n 'totalCashPerShare': 10.766,\n 'ebitda': 125182001152,\n 'totalDebt': 106228998144,\n 'quickRatio': 1.132,\n 'currentRatio': 1.242,\n 'totalRevenue': 236583993344,\n 'debtToEquity': 41.963,\n 'revenuePerShare': 31.834,\n 'returnOnAssets': 0.15295,\n 'returnOnEquity': 0.38487998,\n 'freeCashflow': 61497999360,\n 'operatingCashflow': 110122999808,\n 'earningsGrowth': 0.2,\n 'revenueGrowth': 0.17,\n 'grossMargins': 0.69894,\n 'ebitdaMargins': 0.52911997,\n 'operatingMargins': 0.44588003,\n 'financialCurrency': 'USD',\n 'trailingPegRatio': 2.0514}"
     },
     "execution_count": 7,
     "metadata": {},
     "output_type": "execute_result"
    }
   ],
   "source": [
    "msft.info"
   ],
   "metadata": {
    "collapsed": false,
    "ExecuteTime": {
     "end_time": "2024-06-05T19:11:28.349956585Z",
     "start_time": "2024-06-05T19:11:28.277657013Z"
    }
   }
  },
  {
   "cell_type": "code",
   "execution_count": 8,
   "outputs": [
    {
     "name": "stderr",
     "output_type": "stream",
     "text": [
      "MSFT: Period '1wk' is invalid, must be one of ['1d', '5d', '1mo', '3mo', '6mo', '1y', '2y', '5y', '10y', 'ytd', 'max']\n"
     ]
    },
    {
     "data": {
      "text/plain": "{'currency': 'USD',\n 'symbol': 'MSFT',\n 'exchangeName': 'NMS',\n 'fullExchangeName': 'NasdaqGS',\n 'instrumentType': 'EQUITY',\n 'firstTradeDate': 511108200,\n 'regularMarketTime': 1717614710,\n 'hasPrePostMarketData': True,\n 'gmtoffset': -14400,\n 'timezone': 'EDT',\n 'exchangeTimezoneName': 'America/New_York',\n 'regularMarketPrice': 423.2,\n 'fiftyTwoWeekHigh': 423.62,\n 'fiftyTwoWeekLow': 416.3,\n 'regularMarketDayHigh': 423.62,\n 'regularMarketDayLow': 416.3,\n 'regularMarketVolume': 9488967,\n 'chartPreviousClose': 429.17,\n 'previousClose': 416.07,\n 'scale': 3,\n 'priceHint': 2,\n 'currentTradingPeriod': {'pre': {'timezone': 'EDT',\n   'end': 1717594200,\n   'start': 1717574400,\n   'gmtoffset': -14400},\n  'regular': {'timezone': 'EDT',\n   'end': 1717617600,\n   'start': 1717594200,\n   'gmtoffset': -14400},\n  'post': {'timezone': 'EDT',\n   'end': 1717632000,\n   'start': 1717617600,\n   'gmtoffset': -14400}},\n 'tradingPeriods':                                           pre_start                   pre_end  \\\n Date                                                                            \n 2024-05-29 00:00:00-04:00 2024-05-29 04:00:00-04:00 2024-05-29 09:30:00-04:00   \n 2024-05-30 00:00:00-04:00 2024-05-30 04:00:00-04:00 2024-05-30 09:30:00-04:00   \n 2024-05-31 00:00:00-04:00 2024-05-31 04:00:00-04:00 2024-05-31 09:30:00-04:00   \n 2024-06-03 00:00:00-04:00 2024-06-03 04:00:00-04:00 2024-06-03 09:30:00-04:00   \n 2024-06-04 00:00:00-04:00 2024-06-04 04:00:00-04:00 2024-06-04 09:30:00-04:00   \n 2024-06-05 00:00:00-04:00 2024-06-05 04:00:00-04:00 2024-06-05 09:30:00-04:00   \n \n                                               start                       end  \\\n Date                                                                            \n 2024-05-29 00:00:00-04:00 2024-05-29 09:30:00-04:00 2024-05-29 16:00:00-04:00   \n 2024-05-30 00:00:00-04:00 2024-05-30 09:30:00-04:00 2024-05-30 16:00:00-04:00   \n 2024-05-31 00:00:00-04:00 2024-05-31 09:30:00-04:00 2024-05-31 16:00:00-04:00   \n 2024-06-03 00:00:00-04:00 2024-06-03 09:30:00-04:00 2024-06-03 16:00:00-04:00   \n 2024-06-04 00:00:00-04:00 2024-06-04 09:30:00-04:00 2024-06-04 16:00:00-04:00   \n 2024-06-05 00:00:00-04:00 2024-06-05 09:30:00-04:00 2024-06-05 16:00:00-04:00   \n \n                                          post_start                  post_end  \n Date                                                                           \n 2024-05-29 00:00:00-04:00 2024-05-29 16:00:00-04:00 2024-05-29 20:00:00-04:00  \n 2024-05-30 00:00:00-04:00 2024-05-30 16:00:00-04:00 2024-05-30 20:00:00-04:00  \n 2024-05-31 00:00:00-04:00 2024-05-31 16:00:00-04:00 2024-05-31 20:00:00-04:00  \n 2024-06-03 00:00:00-04:00 2024-06-03 16:00:00-04:00 2024-06-03 20:00:00-04:00  \n 2024-06-04 00:00:00-04:00 2024-06-04 16:00:00-04:00 2024-06-04 20:00:00-04:00  \n 2024-06-05 00:00:00-04:00 2024-06-05 16:00:00-04:00 2024-06-05 20:00:00-04:00  ,\n 'dataGranularity': '1h',\n 'range': '1wk',\n 'validRanges': ['1d',\n  '5d',\n  '1mo',\n  '3mo',\n  '6mo',\n  '1y',\n  '2y',\n  '5y',\n  '10y',\n  'ytd',\n  'max']}"
     },
     "execution_count": 8,
     "metadata": {},
     "output_type": "execute_result"
    }
   ],
   "source": [
    "msft.history_metadata"
   ],
   "metadata": {
    "collapsed": false,
    "ExecuteTime": {
     "end_time": "2024-06-05T19:11:53.347970381Z",
     "start_time": "2024-06-05T19:11:53.205430411Z"
    }
   }
  },
  {
   "cell_type": "code",
   "execution_count": 9,
   "outputs": [
    {
     "data": {
      "text/plain": "Series([], dtype: object)"
     },
     "execution_count": 9,
     "metadata": {},
     "output_type": "execute_result"
    }
   ],
   "source": [
    "msft.capital_gains  # only for mutual funds & etfs"
   ],
   "metadata": {
    "collapsed": false,
    "ExecuteTime": {
     "end_time": "2024-06-05T19:12:28.931286293Z",
     "start_time": "2024-06-05T19:12:28.630068383Z"
    }
   }
  },
  {
   "cell_type": "code",
   "execution_count": 10,
   "outputs": [
    {
     "data": {
      "text/plain": "2022-01-27 00:00:00-05:00    7496869888\n2022-02-04 00:00:00-05:00    7800719872\n2022-02-05 00:00:00-05:00    7496869888\n2022-02-11 00:00:00-05:00    7496869888\n2022-03-04 00:00:00-05:00    7605040128\n                                ...    \n2024-05-30 00:00:00-04:00    7432309760\n2024-05-31 00:00:00-04:00    7432309760\n2024-05-31 00:00:00-04:00    7698290176\n2024-06-01 00:00:00-04:00    7432309760\n2024-06-05 00:00:00-04:00    7432309760\nLength: 194, dtype: int64"
     },
     "execution_count": 10,
     "metadata": {},
     "output_type": "execute_result"
    }
   ],
   "source": [
    "# show share count\n",
    "msft.get_shares_full(start=\"2022-01-01\", end=None)"
   ],
   "metadata": {
    "collapsed": false,
    "ExecuteTime": {
     "end_time": "2024-06-05T19:12:41.604900019Z",
     "start_time": "2024-06-05T19:12:41.563599852Z"
    }
   }
  },
  {
   "cell_type": "code",
   "execution_count": 11,
   "outputs": [
    {
     "name": "stderr",
     "output_type": "stream",
     "text": [
      "[*********************100%%**********************]  2 of 2 completed\n"
     ]
    }
   ],
   "source": [
    "import yfinance as yf\n",
    "data = yf.download(\"SPY AAPL\", period=\"1mo\")"
   ],
   "metadata": {
    "collapsed": false,
    "ExecuteTime": {
     "end_time": "2024-06-05T19:16:56.768727267Z",
     "start_time": "2024-06-05T19:16:56.518662416Z"
    }
   }
  },
  {
   "cell_type": "code",
   "execution_count": 12,
   "outputs": [
    {
     "data": {
      "text/plain": "Price        Adj Close                   Close                    High  \\\nTicker            AAPL         SPY        AAPL         SPY        AAPL   \nDate                                                                     \n2024-05-06  181.463882  516.570007  181.710007  516.570007  184.199997   \n2024-05-07  182.152924  517.140015  182.399994  517.140015  184.899994   \n2024-05-08  182.492477  517.190002  182.740005  517.190002  183.070007   \n2024-05-09  184.320007  520.169983  184.570007  520.169983  184.660004   \n2024-05-10  183.050003  520.840027  183.050003  520.840027  185.089996   \n2024-05-13  186.279999  520.909973  186.279999  520.909973  187.100006   \n2024-05-14  187.429993  523.299988  187.429993  523.299988  188.300003   \n2024-05-15  189.720001  529.780029  189.720001  529.780029  190.649994   \n2024-05-16  189.839996  528.690002  189.839996  528.690002  191.100006   \n2024-05-17  189.869995  529.450012  189.869995  529.450012  190.809998   \n2024-05-20  191.039993  530.059998  191.039993  530.059998  191.919998   \n2024-05-21  192.350006  531.359985  192.350006  531.359985  192.729996   \n2024-05-22  190.899994  529.830017  190.899994  529.830017  192.820007   \n2024-05-23  186.880005  525.960022  186.880005  525.960022  191.000000   \n2024-05-24  189.979996  529.440002  189.979996  529.440002  190.580002   \n2024-05-28  189.990005  529.809998  189.990005  529.809998  193.000000   \n2024-05-29  190.289993  526.099976  190.289993  526.099976  192.250000   \n2024-05-30  191.289993  522.609985  191.289993  522.609985  192.179993   \n2024-05-31  192.250000  527.369995  192.250000  527.369995  192.570007   \n2024-06-03  194.029999  527.799988  194.029999  527.799988  194.990005   \n2024-06-04  194.350006  528.390015  194.350006  528.390015  195.320007   \n2024-06-05  195.985001  534.000000  195.985001  534.000000  196.899994   \n\nPrice                          Low                    Open              \\\nTicker             SPY        AAPL         SPY        AAPL         SPY   \nDate                                                                     \n2024-05-06  516.609985  180.419998  513.299988  182.350006  513.750000   \n2024-05-07  518.570007  181.320007  516.450012  183.449997  517.559998   \n2024-05-08  517.739990  181.449997  515.140015  182.850006  515.260010   \n2024-05-09  520.210022  182.110001  516.710022  182.559998  517.380005   \n2024-05-10  522.640015  182.130005  519.590027  184.899994  521.809998   \n2024-05-13  522.669983  184.619995  519.739990  185.440002  522.559998   \n2024-05-14  523.830017  186.289993  520.559998  187.509995  521.109985   \n2024-05-15  530.080017  187.369995  525.179993  187.910004  525.830017   \n2024-05-16  531.520020  189.660004  528.539978  190.470001  529.880005   \n2024-05-17  529.520020  189.179993  527.320007  189.509995  528.809998   \n2024-05-20  531.559998  189.009995  529.169983  189.330002  529.570007   \n2024-05-21  531.520020  190.919998  529.070007  191.089996  529.280029   \n2024-05-22  531.380005  190.270004  527.599976  192.270004  530.650024   \n2024-05-23  533.070007  186.630005  524.719971  190.979996  532.960022   \n2024-05-24  530.270020  188.039993  526.880005  188.820007  527.849976   \n2024-05-28  530.510010  189.100006  527.109985  191.509995  530.270020   \n2024-05-29  527.309998  189.509995  525.369995  189.610001  525.679993   \n2024-05-30  525.200012  190.630005  521.330017  190.759995  524.520020   \n2024-05-31  527.500000  189.910004  518.359985  191.440002  523.590027   \n2024-06-03  529.309998  192.520004  522.599976  192.899994  529.020020   \n2024-06-04  529.150024  193.029999  524.960022  194.639999  526.460022   \n2024-06-05  534.120117  194.880005  528.725403  195.419998  530.770020   \n\nPrice         Volume            \nTicker          AAPL       SPY  \nDate                            \n2024-05-06  78569700  47264700  \n2024-05-07  77305800  52561300  \n2024-05-08  45057100  42047200  \n2024-05-09  48983000  43643700  \n2024-05-10  50759500  52233200  \n2024-05-13  72044800  36716400  \n2024-05-14  52393600  57535900  \n2024-05-15  70400000  59504900  \n2024-05-16  52845200  50244800  \n2024-05-17  41282900  59187600  \n2024-05-20  44361300  37764200  \n2024-05-21  42309400  33437000  \n2024-05-22  34648500  48390000  \n2024-05-23  51005900  57211200  \n2024-05-24  36294600  41258400  \n2024-05-28  52280100  36269600  \n2024-05-29  53068000  45190300  \n2024-05-30  49947900  46468500  \n2024-05-31  75158300  90785800  \n2024-06-03  50080500  46835700  \n2024-06-04  45372900  34568400  \n2024-06-05  37125182  28809503  ",
      "text/html": "<div>\n<style scoped>\n    .dataframe tbody tr th:only-of-type {\n        vertical-align: middle;\n    }\n\n    .dataframe tbody tr th {\n        vertical-align: top;\n    }\n\n    .dataframe thead tr th {\n        text-align: left;\n    }\n\n    .dataframe thead tr:last-of-type th {\n        text-align: right;\n    }\n</style>\n<table border=\"1\" class=\"dataframe\">\n  <thead>\n    <tr>\n      <th>Price</th>\n      <th colspan=\"2\" halign=\"left\">Adj Close</th>\n      <th colspan=\"2\" halign=\"left\">Close</th>\n      <th colspan=\"2\" halign=\"left\">High</th>\n      <th colspan=\"2\" halign=\"left\">Low</th>\n      <th colspan=\"2\" halign=\"left\">Open</th>\n      <th colspan=\"2\" halign=\"left\">Volume</th>\n    </tr>\n    <tr>\n      <th>Ticker</th>\n      <th>AAPL</th>\n      <th>SPY</th>\n      <th>AAPL</th>\n      <th>SPY</th>\n      <th>AAPL</th>\n      <th>SPY</th>\n      <th>AAPL</th>\n      <th>SPY</th>\n      <th>AAPL</th>\n      <th>SPY</th>\n      <th>AAPL</th>\n      <th>SPY</th>\n    </tr>\n    <tr>\n      <th>Date</th>\n      <th></th>\n      <th></th>\n      <th></th>\n      <th></th>\n      <th></th>\n      <th></th>\n      <th></th>\n      <th></th>\n      <th></th>\n      <th></th>\n      <th></th>\n      <th></th>\n    </tr>\n  </thead>\n  <tbody>\n    <tr>\n      <th>2024-05-06</th>\n      <td>181.463882</td>\n      <td>516.570007</td>\n      <td>181.710007</td>\n      <td>516.570007</td>\n      <td>184.199997</td>\n      <td>516.609985</td>\n      <td>180.419998</td>\n      <td>513.299988</td>\n      <td>182.350006</td>\n      <td>513.750000</td>\n      <td>78569700</td>\n      <td>47264700</td>\n    </tr>\n    <tr>\n      <th>2024-05-07</th>\n      <td>182.152924</td>\n      <td>517.140015</td>\n      <td>182.399994</td>\n      <td>517.140015</td>\n      <td>184.899994</td>\n      <td>518.570007</td>\n      <td>181.320007</td>\n      <td>516.450012</td>\n      <td>183.449997</td>\n      <td>517.559998</td>\n      <td>77305800</td>\n      <td>52561300</td>\n    </tr>\n    <tr>\n      <th>2024-05-08</th>\n      <td>182.492477</td>\n      <td>517.190002</td>\n      <td>182.740005</td>\n      <td>517.190002</td>\n      <td>183.070007</td>\n      <td>517.739990</td>\n      <td>181.449997</td>\n      <td>515.140015</td>\n      <td>182.850006</td>\n      <td>515.260010</td>\n      <td>45057100</td>\n      <td>42047200</td>\n    </tr>\n    <tr>\n      <th>2024-05-09</th>\n      <td>184.320007</td>\n      <td>520.169983</td>\n      <td>184.570007</td>\n      <td>520.169983</td>\n      <td>184.660004</td>\n      <td>520.210022</td>\n      <td>182.110001</td>\n      <td>516.710022</td>\n      <td>182.559998</td>\n      <td>517.380005</td>\n      <td>48983000</td>\n      <td>43643700</td>\n    </tr>\n    <tr>\n      <th>2024-05-10</th>\n      <td>183.050003</td>\n      <td>520.840027</td>\n      <td>183.050003</td>\n      <td>520.840027</td>\n      <td>185.089996</td>\n      <td>522.640015</td>\n      <td>182.130005</td>\n      <td>519.590027</td>\n      <td>184.899994</td>\n      <td>521.809998</td>\n      <td>50759500</td>\n      <td>52233200</td>\n    </tr>\n    <tr>\n      <th>2024-05-13</th>\n      <td>186.279999</td>\n      <td>520.909973</td>\n      <td>186.279999</td>\n      <td>520.909973</td>\n      <td>187.100006</td>\n      <td>522.669983</td>\n      <td>184.619995</td>\n      <td>519.739990</td>\n      <td>185.440002</td>\n      <td>522.559998</td>\n      <td>72044800</td>\n      <td>36716400</td>\n    </tr>\n    <tr>\n      <th>2024-05-14</th>\n      <td>187.429993</td>\n      <td>523.299988</td>\n      <td>187.429993</td>\n      <td>523.299988</td>\n      <td>188.300003</td>\n      <td>523.830017</td>\n      <td>186.289993</td>\n      <td>520.559998</td>\n      <td>187.509995</td>\n      <td>521.109985</td>\n      <td>52393600</td>\n      <td>57535900</td>\n    </tr>\n    <tr>\n      <th>2024-05-15</th>\n      <td>189.720001</td>\n      <td>529.780029</td>\n      <td>189.720001</td>\n      <td>529.780029</td>\n      <td>190.649994</td>\n      <td>530.080017</td>\n      <td>187.369995</td>\n      <td>525.179993</td>\n      <td>187.910004</td>\n      <td>525.830017</td>\n      <td>70400000</td>\n      <td>59504900</td>\n    </tr>\n    <tr>\n      <th>2024-05-16</th>\n      <td>189.839996</td>\n      <td>528.690002</td>\n      <td>189.839996</td>\n      <td>528.690002</td>\n      <td>191.100006</td>\n      <td>531.520020</td>\n      <td>189.660004</td>\n      <td>528.539978</td>\n      <td>190.470001</td>\n      <td>529.880005</td>\n      <td>52845200</td>\n      <td>50244800</td>\n    </tr>\n    <tr>\n      <th>2024-05-17</th>\n      <td>189.869995</td>\n      <td>529.450012</td>\n      <td>189.869995</td>\n      <td>529.450012</td>\n      <td>190.809998</td>\n      <td>529.520020</td>\n      <td>189.179993</td>\n      <td>527.320007</td>\n      <td>189.509995</td>\n      <td>528.809998</td>\n      <td>41282900</td>\n      <td>59187600</td>\n    </tr>\n    <tr>\n      <th>2024-05-20</th>\n      <td>191.039993</td>\n      <td>530.059998</td>\n      <td>191.039993</td>\n      <td>530.059998</td>\n      <td>191.919998</td>\n      <td>531.559998</td>\n      <td>189.009995</td>\n      <td>529.169983</td>\n      <td>189.330002</td>\n      <td>529.570007</td>\n      <td>44361300</td>\n      <td>37764200</td>\n    </tr>\n    <tr>\n      <th>2024-05-21</th>\n      <td>192.350006</td>\n      <td>531.359985</td>\n      <td>192.350006</td>\n      <td>531.359985</td>\n      <td>192.729996</td>\n      <td>531.520020</td>\n      <td>190.919998</td>\n      <td>529.070007</td>\n      <td>191.089996</td>\n      <td>529.280029</td>\n      <td>42309400</td>\n      <td>33437000</td>\n    </tr>\n    <tr>\n      <th>2024-05-22</th>\n      <td>190.899994</td>\n      <td>529.830017</td>\n      <td>190.899994</td>\n      <td>529.830017</td>\n      <td>192.820007</td>\n      <td>531.380005</td>\n      <td>190.270004</td>\n      <td>527.599976</td>\n      <td>192.270004</td>\n      <td>530.650024</td>\n      <td>34648500</td>\n      <td>48390000</td>\n    </tr>\n    <tr>\n      <th>2024-05-23</th>\n      <td>186.880005</td>\n      <td>525.960022</td>\n      <td>186.880005</td>\n      <td>525.960022</td>\n      <td>191.000000</td>\n      <td>533.070007</td>\n      <td>186.630005</td>\n      <td>524.719971</td>\n      <td>190.979996</td>\n      <td>532.960022</td>\n      <td>51005900</td>\n      <td>57211200</td>\n    </tr>\n    <tr>\n      <th>2024-05-24</th>\n      <td>189.979996</td>\n      <td>529.440002</td>\n      <td>189.979996</td>\n      <td>529.440002</td>\n      <td>190.580002</td>\n      <td>530.270020</td>\n      <td>188.039993</td>\n      <td>526.880005</td>\n      <td>188.820007</td>\n      <td>527.849976</td>\n      <td>36294600</td>\n      <td>41258400</td>\n    </tr>\n    <tr>\n      <th>2024-05-28</th>\n      <td>189.990005</td>\n      <td>529.809998</td>\n      <td>189.990005</td>\n      <td>529.809998</td>\n      <td>193.000000</td>\n      <td>530.510010</td>\n      <td>189.100006</td>\n      <td>527.109985</td>\n      <td>191.509995</td>\n      <td>530.270020</td>\n      <td>52280100</td>\n      <td>36269600</td>\n    </tr>\n    <tr>\n      <th>2024-05-29</th>\n      <td>190.289993</td>\n      <td>526.099976</td>\n      <td>190.289993</td>\n      <td>526.099976</td>\n      <td>192.250000</td>\n      <td>527.309998</td>\n      <td>189.509995</td>\n      <td>525.369995</td>\n      <td>189.610001</td>\n      <td>525.679993</td>\n      <td>53068000</td>\n      <td>45190300</td>\n    </tr>\n    <tr>\n      <th>2024-05-30</th>\n      <td>191.289993</td>\n      <td>522.609985</td>\n      <td>191.289993</td>\n      <td>522.609985</td>\n      <td>192.179993</td>\n      <td>525.200012</td>\n      <td>190.630005</td>\n      <td>521.330017</td>\n      <td>190.759995</td>\n      <td>524.520020</td>\n      <td>49947900</td>\n      <td>46468500</td>\n    </tr>\n    <tr>\n      <th>2024-05-31</th>\n      <td>192.250000</td>\n      <td>527.369995</td>\n      <td>192.250000</td>\n      <td>527.369995</td>\n      <td>192.570007</td>\n      <td>527.500000</td>\n      <td>189.910004</td>\n      <td>518.359985</td>\n      <td>191.440002</td>\n      <td>523.590027</td>\n      <td>75158300</td>\n      <td>90785800</td>\n    </tr>\n    <tr>\n      <th>2024-06-03</th>\n      <td>194.029999</td>\n      <td>527.799988</td>\n      <td>194.029999</td>\n      <td>527.799988</td>\n      <td>194.990005</td>\n      <td>529.309998</td>\n      <td>192.520004</td>\n      <td>522.599976</td>\n      <td>192.899994</td>\n      <td>529.020020</td>\n      <td>50080500</td>\n      <td>46835700</td>\n    </tr>\n    <tr>\n      <th>2024-06-04</th>\n      <td>194.350006</td>\n      <td>528.390015</td>\n      <td>194.350006</td>\n      <td>528.390015</td>\n      <td>195.320007</td>\n      <td>529.150024</td>\n      <td>193.029999</td>\n      <td>524.960022</td>\n      <td>194.639999</td>\n      <td>526.460022</td>\n      <td>45372900</td>\n      <td>34568400</td>\n    </tr>\n    <tr>\n      <th>2024-06-05</th>\n      <td>195.985001</td>\n      <td>534.000000</td>\n      <td>195.985001</td>\n      <td>534.000000</td>\n      <td>196.899994</td>\n      <td>534.120117</td>\n      <td>194.880005</td>\n      <td>528.725403</td>\n      <td>195.419998</td>\n      <td>530.770020</td>\n      <td>37125182</td>\n      <td>28809503</td>\n    </tr>\n  </tbody>\n</table>\n</div>"
     },
     "execution_count": 12,
     "metadata": {},
     "output_type": "execute_result"
    }
   ],
   "source": [
    "data"
   ],
   "metadata": {
    "collapsed": false,
    "ExecuteTime": {
     "end_time": "2024-06-05T19:17:01.435787766Z",
     "start_time": "2024-06-05T19:17:01.431723944Z"
    }
   }
  },
  {
   "cell_type": "code",
   "execution_count": null,
   "outputs": [],
   "source": [],
   "metadata": {
    "collapsed": false
   }
  }
 ],
 "metadata": {
  "kernelspec": {
   "display_name": "Python 3",
   "language": "python",
   "name": "python3"
  },
  "language_info": {
   "codemirror_mode": {
    "name": "ipython",
    "version": 2
   },
   "file_extension": ".py",
   "mimetype": "text/x-python",
   "name": "python",
   "nbconvert_exporter": "python",
   "pygments_lexer": "ipython2",
   "version": "2.7.6"
  }
 },
 "nbformat": 4,
 "nbformat_minor": 0
}
